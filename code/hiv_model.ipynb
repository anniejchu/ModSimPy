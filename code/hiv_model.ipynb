{
 "cells": [
  {
   "cell_type": "markdown",
   "metadata": {},
   "source": [
    "# HIV Model -- Annie Chu"
   ]
  },
  {
   "cell_type": "code",
   "execution_count": 1,
   "metadata": {},
   "outputs": [],
   "source": [
    "# Configure Jupyter so figures appear in the notebook\n",
    "%matplotlib inline\n",
    "\n",
    "# Configure Jupyter to display the assigned value after an assignment\n",
    "%config InteractiveShell.ast_node_interactivity='last_expr_or_assign'\n",
    "\n",
    "# import functions from the modsim.py module\n",
    "from modsim import *"
   ]
  },
  {
   "cell_type": "markdown",
   "metadata": {},
   "source": [
    "## Making System"
   ]
  },
  {
   "cell_type": "code",
   "execution_count": null,
   "metadata": {},
   "outputs": [],
   "source": [
    "def make_system(gamma, tau, mu, beta, alpha, rho, sigma, delta):\n",
    "    '''\n",
    "    R = # of activated, uninfected CD4 lymphocytes\n",
    "    L = # of latently infected cells\n",
    "    E = # of actively infected cells\n",
    "    V = # of free virions\n",
    "    \n",
    "    mu = HIV-independent death removal rate\n",
    "    \n",
    "    gamma = rate at which new, uninfected CD4 lymphocytes arise\n",
    "    tau = proportion that are activated \n",
    "\n",
    "    rho = proportion of cells become latently infected\n",
    "    alpha = activation rate from L to E\n",
    "    \n",
    "    delta = death rate of L???????????????\n",
    "    \n",
    "    R rises at rate = gamma x tau = Rbegin\n",
    "    R becomes L at rate = beta x V = RtoL\n",
    "    R dies at rate = mu = Rdeath\n",
    "    dR/dt = (Rbegin) - (mu x R) - (RtoL x R)\n",
    "    \n",
    "    \n",
    "    '''\n",
    "    init = State(R=1, L=1, E=1, V=1)\n",
    "    return System(init=init, gamma=gamma, \n",
    "                  tau=tau, mu=mu, beta=beta,\n",
    "                  alpha=alpha, rho=rho, sigma=sigma, \n",
    "                  delta=delta)"
   ]
  }
 ],
 "metadata": {
  "kernelspec": {
   "display_name": "Python 3",
   "language": "python",
   "name": "python3"
  },
  "language_info": {
   "codemirror_mode": {
    "name": "ipython",
    "version": 3
   },
   "file_extension": ".py",
   "mimetype": "text/x-python",
   "name": "python",
   "nbconvert_exporter": "python",
   "pygments_lexer": "ipython3",
   "version": "3.6.6"
  }
 },
 "nbformat": 4,
 "nbformat_minor": 2
}
